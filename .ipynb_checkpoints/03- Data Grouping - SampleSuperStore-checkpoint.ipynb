{
 "cells": [
  {
   "cell_type": "markdown",
   "metadata": {},
   "source": [
    "# 03 - Data Grouping (Sample Super Store)\n",
    "Given the second part of this Jupyter notebook tutorial, we will try to clean-up the data from invalid values and try to recreate from the previous orginal dataset to something more valueable and informative to our business needs."
   ]
  },
  {
   "cell_type": "code",
   "execution_count": 1,
   "metadata": {},
   "outputs": [],
   "source": [
    "# Importing packages\n",
    "import pandas as pd\n",
    "import numpy as np"
   ]
  },
  {
   "cell_type": "markdown",
   "metadata": {},
   "source": [
    "### Let's try to read the CSV record \n",
    "The following code would imply these instructions\n",
    "- df_orders = is the name of the variable, that will be using throughout the example of this tutorial.\n",
    "- pd = stands for Panda\n",
    "- .read_csv = is a method within to read the CSV file."
   ]
  },
  {
   "cell_type": "code",
   "execution_count": 2,
   "metadata": {},
   "outputs": [],
   "source": [
    "df_cleaning = pd.read_csv('df_cleaning.csv')"
   ]
  },
  {
   "cell_type": "code",
   "execution_count": 3,
   "metadata": {},
   "outputs": [],
   "source": [
    "# Set the total rows and columns default numbers.\n",
    "pd.set_option('display.max_columns', 23)\n",
    "pd.set_option('display.max_rows', 5)"
   ]
  },
  {
   "cell_type": "code",
   "execution_count": 4,
   "metadata": {},
   "outputs": [
    {
     "data": {
      "text/html": [
       "<div>\n",
       "<style scoped>\n",
       "    .dataframe tbody tr th:only-of-type {\n",
       "        vertical-align: middle;\n",
       "    }\n",
       "\n",
       "    .dataframe tbody tr th {\n",
       "        vertical-align: top;\n",
       "    }\n",
       "\n",
       "    .dataframe thead th {\n",
       "        text-align: right;\n",
       "    }\n",
       "</style>\n",
       "<table border=\"1\" class=\"dataframe\">\n",
       "  <thead>\n",
       "    <tr style=\"text-align: right;\">\n",
       "      <th></th>\n",
       "      <th>RowID</th>\n",
       "      <th>OrderID</th>\n",
       "      <th>OrderDate</th>\n",
       "      <th>ShipDate</th>\n",
       "      <th>ShipMode</th>\n",
       "      <th>CustomerID</th>\n",
       "      <th>CustomerName</th>\n",
       "      <th>Segment</th>\n",
       "      <th>Country</th>\n",
       "      <th>City</th>\n",
       "      <th>State</th>\n",
       "      <th>PostalCode</th>\n",
       "      <th>Region</th>\n",
       "      <th>ProductID</th>\n",
       "      <th>Category</th>\n",
       "      <th>SubCategory</th>\n",
       "      <th>ProductName</th>\n",
       "      <th>Sales</th>\n",
       "      <th>Quantity</th>\n",
       "      <th>Discount</th>\n",
       "      <th>Profit</th>\n",
       "      <th>Revenue</th>\n",
       "      <th>NetPrice</th>\n",
       "    </tr>\n",
       "  </thead>\n",
       "  <tbody>\n",
       "    <tr>\n",
       "      <th>0</th>\n",
       "      <td>1</td>\n",
       "      <td>CA-2017-152156</td>\n",
       "      <td>2017-11-08</td>\n",
       "      <td>2017-11-11</td>\n",
       "      <td>Second Class</td>\n",
       "      <td>CG-12520</td>\n",
       "      <td>Claire Gute</td>\n",
       "      <td>Consumer</td>\n",
       "      <td>United States</td>\n",
       "      <td>Henderson</td>\n",
       "      <td>Kentucky</td>\n",
       "      <td>42420.0</td>\n",
       "      <td>South</td>\n",
       "      <td>FUR-BO-10001798</td>\n",
       "      <td>Furniture</td>\n",
       "      <td>Bookcases</td>\n",
       "      <td>Bush Somerset Collection Bookcase</td>\n",
       "      <td>261.96</td>\n",
       "      <td>2.0</td>\n",
       "      <td>0.0</td>\n",
       "      <td>41.9136</td>\n",
       "      <td>220.0464</td>\n",
       "      <td>89.0664</td>\n",
       "    </tr>\n",
       "    <tr>\n",
       "      <th>1</th>\n",
       "      <td>2</td>\n",
       "      <td>CA-2017-152156</td>\n",
       "      <td>2017-11-08</td>\n",
       "      <td>2017-11-11</td>\n",
       "      <td>Second Class</td>\n",
       "      <td>CG-12520</td>\n",
       "      <td>Claire Gute</td>\n",
       "      <td>Consumer</td>\n",
       "      <td>United States</td>\n",
       "      <td>Henderson</td>\n",
       "      <td>Kentucky</td>\n",
       "      <td>42420.0</td>\n",
       "      <td>South</td>\n",
       "      <td>FUR-CH-10000454</td>\n",
       "      <td>Furniture</td>\n",
       "      <td>Chairs</td>\n",
       "      <td>Hon Deluxe Fabric Upholstered Stacking Chairs,...</td>\n",
       "      <td>731.94</td>\n",
       "      <td>3.0</td>\n",
       "      <td>0.0</td>\n",
       "      <td>219.5820</td>\n",
       "      <td>512.3580</td>\n",
       "      <td>97.5920</td>\n",
       "    </tr>\n",
       "    <tr>\n",
       "      <th>2</th>\n",
       "      <td>3</td>\n",
       "      <td>CA-2017-138688</td>\n",
       "      <td>2017-06-12</td>\n",
       "      <td>2017-06-16</td>\n",
       "      <td>Second Class</td>\n",
       "      <td>DV-13045</td>\n",
       "      <td>Darrin Van Huff</td>\n",
       "      <td>Corporate</td>\n",
       "      <td>United States</td>\n",
       "      <td>Los Angeles</td>\n",
       "      <td>California</td>\n",
       "      <td>90036.0</td>\n",
       "      <td>West</td>\n",
       "      <td>OFF-LA-10000240</td>\n",
       "      <td>Office Supplies</td>\n",
       "      <td>Labels</td>\n",
       "      <td>Self-Adhesive Address Labels for Typewriters b...</td>\n",
       "      <td>14.62</td>\n",
       "      <td>2.0</td>\n",
       "      <td>0.0</td>\n",
       "      <td>6.8714</td>\n",
       "      <td>7.7486</td>\n",
       "      <td>0.4386</td>\n",
       "    </tr>\n",
       "  </tbody>\n",
       "</table>\n",
       "</div>"
      ],
      "text/plain": [
       "   RowID         OrderID   OrderDate    ShipDate      ShipMode CustomerID  \\\n",
       "0      1  CA-2017-152156  2017-11-08  2017-11-11  Second Class   CG-12520   \n",
       "1      2  CA-2017-152156  2017-11-08  2017-11-11  Second Class   CG-12520   \n",
       "2      3  CA-2017-138688  2017-06-12  2017-06-16  Second Class   DV-13045   \n",
       "\n",
       "      CustomerName    Segment        Country         City       State  \\\n",
       "0      Claire Gute   Consumer  United States    Henderson    Kentucky   \n",
       "1      Claire Gute   Consumer  United States    Henderson    Kentucky   \n",
       "2  Darrin Van Huff  Corporate  United States  Los Angeles  California   \n",
       "\n",
       "   PostalCode Region        ProductID         Category SubCategory  \\\n",
       "0     42420.0  South  FUR-BO-10001798        Furniture   Bookcases   \n",
       "1     42420.0  South  FUR-CH-10000454        Furniture      Chairs   \n",
       "2     90036.0   West  OFF-LA-10000240  Office Supplies      Labels   \n",
       "\n",
       "                                         ProductName   Sales  Quantity  \\\n",
       "0                  Bush Somerset Collection Bookcase  261.96       2.0   \n",
       "1  Hon Deluxe Fabric Upholstered Stacking Chairs,...  731.94       3.0   \n",
       "2  Self-Adhesive Address Labels for Typewriters b...   14.62       2.0   \n",
       "\n",
       "   Discount    Profit   Revenue  NetPrice  \n",
       "0       0.0   41.9136  220.0464   89.0664  \n",
       "1       0.0  219.5820  512.3580   97.5920  \n",
       "2       0.0    6.8714    7.7486    0.4386  "
      ]
     },
     "execution_count": 4,
     "metadata": {},
     "output_type": "execute_result"
    }
   ],
   "source": [
    "df_cleaning.head(3)"
   ]
  },
  {
   "cell_type": "code",
   "execution_count": 5,
   "metadata": {},
   "outputs": [
    {
     "data": {
      "text/plain": [
       "Index(['RowID', 'OrderID', 'OrderDate', 'ShipDate', 'ShipMode', 'CustomerID',\n",
       "       'CustomerName', 'Segment', 'Country', 'City', 'State', 'PostalCode',\n",
       "       'Region', 'ProductID', 'Category', 'SubCategory', 'ProductName',\n",
       "       'Sales', 'Quantity', 'Discount', 'Profit', 'Revenue', 'NetPrice'],\n",
       "      dtype='object')"
      ]
     },
     "execution_count": 5,
     "metadata": {},
     "output_type": "execute_result"
    }
   ],
   "source": [
    "# Let's print the columns (features) names.\n",
    "df_cleaning.columns"
   ]
  },
  {
   "cell_type": "code",
   "execution_count": 6,
   "metadata": {},
   "outputs": [
    {
     "data": {
      "text/plain": [
       "RowID         int64\n",
       "OrderID      object\n",
       "             ...   \n",
       "Revenue     float64\n",
       "NetPrice    float64\n",
       "Length: 23, dtype: object"
      ]
     },
     "execution_count": 6,
     "metadata": {},
     "output_type": "execute_result"
    }
   ],
   "source": [
    "# Let's print the columns data types.\n",
    "df_cleaning.dtypes"
   ]
  },
  {
   "cell_type": "markdown",
   "metadata": {},
   "source": [
    "## Grouping Coloumn\n",
    "### So let's try to do some data grouping based on column\n",
    "\n",
    "- *df_cleaning[['Sales', 'Quantity']] = This command would get the column *'Sales'* & *'Quantity'*\n",
    "- .groupby(['Sales'],  as_index=False) = And group them by the Sales column, but don't use any Index, as it indicate by the 'False'\n",
    "- .*mean()*  =  get the mean value from each row.\n",
    "- .sort_values(by='Quantity', ascending=True)* =  and sort them by quantity value, ascending."
   ]
  },
  {
   "cell_type": "code",
   "execution_count": 7,
   "metadata": {},
   "outputs": [
    {
     "data": {
      "text/html": [
       "<div>\n",
       "<style scoped>\n",
       "    .dataframe tbody tr th:only-of-type {\n",
       "        vertical-align: middle;\n",
       "    }\n",
       "\n",
       "    .dataframe tbody tr th {\n",
       "        vertical-align: top;\n",
       "    }\n",
       "\n",
       "    .dataframe thead th {\n",
       "        text-align: right;\n",
       "    }\n",
       "</style>\n",
       "<table border=\"1\" class=\"dataframe\">\n",
       "  <thead>\n",
       "    <tr style=\"text-align: right;\">\n",
       "      <th></th>\n",
       "      <th>Sales</th>\n",
       "      <th>Quantity</th>\n",
       "    </tr>\n",
       "    <tr>\n",
       "      <th>Profit</th>\n",
       "      <th></th>\n",
       "      <th></th>\n",
       "    </tr>\n",
       "  </thead>\n",
       "  <tbody>\n",
       "    <tr>\n",
       "      <th>1.8872</th>\n",
       "      <td>13.480</td>\n",
       "      <td>1.0</td>\n",
       "    </tr>\n",
       "    <tr>\n",
       "      <th>4.4610</th>\n",
       "      <td>29.740</td>\n",
       "      <td>1.0</td>\n",
       "    </tr>\n",
       "    <tr>\n",
       "      <th>...</th>\n",
       "      <td>...</td>\n",
       "      <td>...</td>\n",
       "    </tr>\n",
       "    <tr>\n",
       "      <th>15.5520</th>\n",
       "      <td>842.400</td>\n",
       "      <td>130.0</td>\n",
       "    </tr>\n",
       "    <tr>\n",
       "      <th>0.0000</th>\n",
       "      <td>27686.847</td>\n",
       "      <td>255.0</td>\n",
       "    </tr>\n",
       "  </tbody>\n",
       "</table>\n",
       "<p>7279 rows × 2 columns</p>\n",
       "</div>"
      ],
      "text/plain": [
       "             Sales  Quantity\n",
       "Profit                      \n",
       "1.8872      13.480       1.0\n",
       "4.4610      29.740       1.0\n",
       "...            ...       ...\n",
       "15.5520    842.400     130.0\n",
       "0.0000   27686.847     255.0\n",
       "\n",
       "[7279 rows x 2 columns]"
      ]
     },
     "execution_count": 7,
     "metadata": {},
     "output_type": "execute_result"
    }
   ],
   "source": [
    "df_cleaning[['Sales','Quantity','Profit']].groupby(['Profit'],as_index=True).sum().sort_values(by='Quantity',ascending=True)"
   ]
  },
  {
   "cell_type": "code",
   "execution_count": 8,
   "metadata": {},
   "outputs": [],
   "source": [
    "# Create a parameter so that we can save them to a CSV format.\n",
    "\n",
    "df_cleaning_groupby_salesQuantityProfit = df_cleaning[['Sales','Quantity','Profit']].groupby(['Profit'],as_index=True).sum().sort_values(by='Quantity',ascending=True)"
   ]
  },
  {
   "cell_type": "code",
   "execution_count": 9,
   "metadata": {},
   "outputs": [],
   "source": [
    "# Create a parameter so that we can save them to a CSV format.\n",
    "\n",
    "df_cleaning_groupby_salesQuantityProfit.to_csv('df_cleaning_groupby_salesQuantityProfit.csv', index = False)"
   ]
  },
  {
   "cell_type": "code",
   "execution_count": 10,
   "metadata": {},
   "outputs": [
    {
     "data": {
      "text/html": [
       "<div>\n",
       "<style scoped>\n",
       "    .dataframe tbody tr th:only-of-type {\n",
       "        vertical-align: middle;\n",
       "    }\n",
       "\n",
       "    .dataframe tbody tr th {\n",
       "        vertical-align: top;\n",
       "    }\n",
       "\n",
       "    .dataframe thead th {\n",
       "        text-align: right;\n",
       "    }\n",
       "</style>\n",
       "<table border=\"1\" class=\"dataframe\">\n",
       "  <thead>\n",
       "    <tr style=\"text-align: right;\">\n",
       "      <th></th>\n",
       "      <th>Sales</th>\n",
       "      <th>Quantity</th>\n",
       "    </tr>\n",
       "    <tr>\n",
       "      <th>Profit</th>\n",
       "      <th></th>\n",
       "      <th></th>\n",
       "    </tr>\n",
       "  </thead>\n",
       "  <tbody>\n",
       "    <tr>\n",
       "      <th>1.8872</th>\n",
       "      <td>13.480</td>\n",
       "      <td>1.0</td>\n",
       "    </tr>\n",
       "    <tr>\n",
       "      <th>4.4610</th>\n",
       "      <td>29.740</td>\n",
       "      <td>1.0</td>\n",
       "    </tr>\n",
       "    <tr>\n",
       "      <th>...</th>\n",
       "      <td>...</td>\n",
       "      <td>...</td>\n",
       "    </tr>\n",
       "    <tr>\n",
       "      <th>15.5520</th>\n",
       "      <td>842.400</td>\n",
       "      <td>130.0</td>\n",
       "    </tr>\n",
       "    <tr>\n",
       "      <th>0.0000</th>\n",
       "      <td>27686.847</td>\n",
       "      <td>255.0</td>\n",
       "    </tr>\n",
       "  </tbody>\n",
       "</table>\n",
       "<p>7279 rows × 2 columns</p>\n",
       "</div>"
      ],
      "text/plain": [
       "             Sales  Quantity\n",
       "Profit                      \n",
       "1.8872      13.480       1.0\n",
       "4.4610      29.740       1.0\n",
       "...            ...       ...\n",
       "15.5520    842.400     130.0\n",
       "0.0000   27686.847     255.0\n",
       "\n",
       "[7279 rows x 2 columns]"
      ]
     },
     "execution_count": 10,
     "metadata": {},
     "output_type": "execute_result"
    }
   ],
   "source": [
    "# Let's try to call them with the parameter name instead.\n",
    "\n",
    "df_cleaning_groupby_salesQuantityProfit"
   ]
  },
  {
   "cell_type": "markdown",
   "metadata": {},
   "source": [
    "### So let's try to do some data grouping based on column\n",
    "\n",
    "- *df_cleaning[['Sales', 'Discount']] = This command would get the column *'Sales'* & *'Discount'*\n",
    "- .groupby(['Sales'],  as_index=True) = And group them by the Sales column, but don't use any Index, as indicate by the 'True' parameter\n",
    "- .*sum()*  =  get the mean value from each row.\n",
    "- .sort_values(by='Discount', ascending=False)* =  and sort them by quantity value, descending."
   ]
  },
  {
   "cell_type": "code",
   "execution_count": 11,
   "metadata": {},
   "outputs": [
    {
     "data": {
      "text/html": [
       "<div>\n",
       "<style scoped>\n",
       "    .dataframe tbody tr th:only-of-type {\n",
       "        vertical-align: middle;\n",
       "    }\n",
       "\n",
       "    .dataframe tbody tr th {\n",
       "        vertical-align: top;\n",
       "    }\n",
       "\n",
       "    .dataframe thead th {\n",
       "        text-align: right;\n",
       "    }\n",
       "</style>\n",
       "<table border=\"1\" class=\"dataframe\">\n",
       "  <thead>\n",
       "    <tr style=\"text-align: right;\">\n",
       "      <th></th>\n",
       "      <th>Discount</th>\n",
       "    </tr>\n",
       "    <tr>\n",
       "      <th>Sales</th>\n",
       "      <th></th>\n",
       "    </tr>\n",
       "  </thead>\n",
       "  <tbody>\n",
       "    <tr>\n",
       "      <th>15.552</th>\n",
       "      <td>7.8</td>\n",
       "    </tr>\n",
       "    <tr>\n",
       "      <th>10.368</th>\n",
       "      <td>7.2</td>\n",
       "    </tr>\n",
       "    <tr>\n",
       "      <th>...</th>\n",
       "      <td>...</td>\n",
       "    </tr>\n",
       "    <tr>\n",
       "      <th>8.750</th>\n",
       "      <td>0.0</td>\n",
       "    </tr>\n",
       "    <tr>\n",
       "      <th>83.420</th>\n",
       "      <td>0.0</td>\n",
       "    </tr>\n",
       "  </tbody>\n",
       "</table>\n",
       "<p>5818 rows × 1 columns</p>\n",
       "</div>"
      ],
      "text/plain": [
       "        Discount\n",
       "Sales           \n",
       "15.552       7.8\n",
       "10.368       7.2\n",
       "...          ...\n",
       "8.750        0.0\n",
       "83.420       0.0\n",
       "\n",
       "[5818 rows x 1 columns]"
      ]
     },
     "execution_count": 11,
     "metadata": {},
     "output_type": "execute_result"
    }
   ],
   "source": [
    "df_cleaning[['Sales', 'Discount']].groupby(['Sales'], as_index=True).sum().sort_values(by='Discount', ascending=False)"
   ]
  },
  {
   "cell_type": "code",
   "execution_count": 12,
   "metadata": {},
   "outputs": [],
   "source": [
    "df_cleaning_groupby_salesDiscount = df_cleaning[['Sales', 'Discount']].groupby(['Sales'], as_index=False).mean().sort_values(by='Discount', ascending=False)"
   ]
  },
  {
   "cell_type": "code",
   "execution_count": 13,
   "metadata": {},
   "outputs": [
    {
     "data": {
      "text/html": [
       "<div>\n",
       "<style scoped>\n",
       "    .dataframe tbody tr th:only-of-type {\n",
       "        vertical-align: middle;\n",
       "    }\n",
       "\n",
       "    .dataframe tbody tr th {\n",
       "        vertical-align: top;\n",
       "    }\n",
       "\n",
       "    .dataframe thead th {\n",
       "        text-align: right;\n",
       "    }\n",
       "</style>\n",
       "<table border=\"1\" class=\"dataframe\">\n",
       "  <thead>\n",
       "    <tr style=\"text-align: right;\">\n",
       "      <th></th>\n",
       "      <th>Sales</th>\n",
       "      <th>Discount</th>\n",
       "    </tr>\n",
       "  </thead>\n",
       "  <tbody>\n",
       "    <tr>\n",
       "      <th>42</th>\n",
       "      <td>1.788</td>\n",
       "      <td>0.8</td>\n",
       "    </tr>\n",
       "    <tr>\n",
       "      <th>0</th>\n",
       "      <td>0.444</td>\n",
       "      <td>0.8</td>\n",
       "    </tr>\n",
       "    <tr>\n",
       "      <th>...</th>\n",
       "      <td>...</td>\n",
       "      <td>...</td>\n",
       "    </tr>\n",
       "    <tr>\n",
       "      <th>1802</th>\n",
       "      <td>33.870</td>\n",
       "      <td>0.0</td>\n",
       "    </tr>\n",
       "    <tr>\n",
       "      <th>2909</th>\n",
       "      <td>83.420</td>\n",
       "      <td>0.0</td>\n",
       "    </tr>\n",
       "  </tbody>\n",
       "</table>\n",
       "<p>5818 rows × 2 columns</p>\n",
       "</div>"
      ],
      "text/plain": [
       "       Sales  Discount\n",
       "42     1.788       0.8\n",
       "0      0.444       0.8\n",
       "...      ...       ...\n",
       "1802  33.870       0.0\n",
       "2909  83.420       0.0\n",
       "\n",
       "[5818 rows x 2 columns]"
      ]
     },
     "execution_count": 13,
     "metadata": {},
     "output_type": "execute_result"
    }
   ],
   "source": [
    "df_cleaning_groupby_salesDiscount"
   ]
  },
  {
   "cell_type": "code",
   "execution_count": 20,
   "metadata": {},
   "outputs": [
    {
     "data": {
      "text/html": [
       "<div>\n",
       "<style scoped>\n",
       "    .dataframe tbody tr th:only-of-type {\n",
       "        vertical-align: middle;\n",
       "    }\n",
       "\n",
       "    .dataframe tbody tr th {\n",
       "        vertical-align: top;\n",
       "    }\n",
       "\n",
       "    .dataframe thead th {\n",
       "        text-align: right;\n",
       "    }\n",
       "</style>\n",
       "<table border=\"1\" class=\"dataframe\">\n",
       "  <thead>\n",
       "    <tr style=\"text-align: right;\">\n",
       "      <th></th>\n",
       "      <th>RowID</th>\n",
       "      <th>OrderID</th>\n",
       "      <th>OrderDate</th>\n",
       "      <th>ShipDate</th>\n",
       "      <th>ShipMode</th>\n",
       "      <th>CustomerID</th>\n",
       "      <th>CustomerName</th>\n",
       "      <th>Segment</th>\n",
       "      <th>Country</th>\n",
       "      <th>City</th>\n",
       "      <th>State</th>\n",
       "      <th>PostalCode</th>\n",
       "      <th>Region</th>\n",
       "      <th>ProductID</th>\n",
       "      <th>Category</th>\n",
       "      <th>SubCategory</th>\n",
       "      <th>ProductName</th>\n",
       "      <th>Sales</th>\n",
       "      <th>Quantity</th>\n",
       "      <th>Discount</th>\n",
       "      <th>Profit</th>\n",
       "      <th>Revenue</th>\n",
       "      <th>NetPrice</th>\n",
       "    </tr>\n",
       "  </thead>\n",
       "  <tbody>\n",
       "    <tr>\n",
       "      <th>0</th>\n",
       "      <td>1</td>\n",
       "      <td>CA-2017-152156</td>\n",
       "      <td>2017-11-08</td>\n",
       "      <td>2017-11-11</td>\n",
       "      <td>Second Class</td>\n",
       "      <td>CG-12520</td>\n",
       "      <td>Claire Gute</td>\n",
       "      <td>Consumer</td>\n",
       "      <td>United States</td>\n",
       "      <td>Henderson</td>\n",
       "      <td>Kentucky</td>\n",
       "      <td>42420.0</td>\n",
       "      <td>South</td>\n",
       "      <td>FUR-BO-10001798</td>\n",
       "      <td>Furniture</td>\n",
       "      <td>Bookcases</td>\n",
       "      <td>Bush Somerset Collection Bookcase</td>\n",
       "      <td>261.96</td>\n",
       "      <td>2.0</td>\n",
       "      <td>0.0</td>\n",
       "      <td>41.9136</td>\n",
       "      <td>220.0464</td>\n",
       "      <td>89.0664</td>\n",
       "    </tr>\n",
       "    <tr>\n",
       "      <th>1</th>\n",
       "      <td>2</td>\n",
       "      <td>CA-2017-152156</td>\n",
       "      <td>2017-11-08</td>\n",
       "      <td>2017-11-11</td>\n",
       "      <td>Second Class</td>\n",
       "      <td>CG-12520</td>\n",
       "      <td>Claire Gute</td>\n",
       "      <td>Consumer</td>\n",
       "      <td>United States</td>\n",
       "      <td>Henderson</td>\n",
       "      <td>Kentucky</td>\n",
       "      <td>42420.0</td>\n",
       "      <td>South</td>\n",
       "      <td>FUR-CH-10000454</td>\n",
       "      <td>Furniture</td>\n",
       "      <td>Chairs</td>\n",
       "      <td>Hon Deluxe Fabric Upholstered Stacking Chairs,...</td>\n",
       "      <td>731.94</td>\n",
       "      <td>3.0</td>\n",
       "      <td>0.0</td>\n",
       "      <td>219.5820</td>\n",
       "      <td>512.3580</td>\n",
       "      <td>97.5920</td>\n",
       "    </tr>\n",
       "    <tr>\n",
       "      <th>2</th>\n",
       "      <td>3</td>\n",
       "      <td>CA-2017-138688</td>\n",
       "      <td>2017-06-12</td>\n",
       "      <td>2017-06-16</td>\n",
       "      <td>Second Class</td>\n",
       "      <td>DV-13045</td>\n",
       "      <td>Darrin Van Huff</td>\n",
       "      <td>Corporate</td>\n",
       "      <td>United States</td>\n",
       "      <td>Los Angeles</td>\n",
       "      <td>California</td>\n",
       "      <td>90036.0</td>\n",
       "      <td>West</td>\n",
       "      <td>OFF-LA-10000240</td>\n",
       "      <td>Office Supplies</td>\n",
       "      <td>Labels</td>\n",
       "      <td>Self-Adhesive Address Labels for Typewriters b...</td>\n",
       "      <td>14.62</td>\n",
       "      <td>2.0</td>\n",
       "      <td>0.0</td>\n",
       "      <td>6.8714</td>\n",
       "      <td>7.7486</td>\n",
       "      <td>0.4386</td>\n",
       "    </tr>\n",
       "  </tbody>\n",
       "</table>\n",
       "</div>"
      ],
      "text/plain": [
       "   RowID         OrderID   OrderDate    ShipDate      ShipMode CustomerID  \\\n",
       "0      1  CA-2017-152156  2017-11-08  2017-11-11  Second Class   CG-12520   \n",
       "1      2  CA-2017-152156  2017-11-08  2017-11-11  Second Class   CG-12520   \n",
       "2      3  CA-2017-138688  2017-06-12  2017-06-16  Second Class   DV-13045   \n",
       "\n",
       "      CustomerName    Segment        Country         City       State  \\\n",
       "0      Claire Gute   Consumer  United States    Henderson    Kentucky   \n",
       "1      Claire Gute   Consumer  United States    Henderson    Kentucky   \n",
       "2  Darrin Van Huff  Corporate  United States  Los Angeles  California   \n",
       "\n",
       "   PostalCode Region        ProductID         Category SubCategory  \\\n",
       "0     42420.0  South  FUR-BO-10001798        Furniture   Bookcases   \n",
       "1     42420.0  South  FUR-CH-10000454        Furniture      Chairs   \n",
       "2     90036.0   West  OFF-LA-10000240  Office Supplies      Labels   \n",
       "\n",
       "                                         ProductName   Sales  Quantity  \\\n",
       "0                  Bush Somerset Collection Bookcase  261.96       2.0   \n",
       "1  Hon Deluxe Fabric Upholstered Stacking Chairs,...  731.94       3.0   \n",
       "2  Self-Adhesive Address Labels for Typewriters b...   14.62       2.0   \n",
       "\n",
       "   Discount    Profit   Revenue  NetPrice  \n",
       "0       0.0   41.9136  220.0464   89.0664  \n",
       "1       0.0  219.5820  512.3580   97.5920  \n",
       "2       0.0    6.8714    7.7486    0.4386  "
      ]
     },
     "execution_count": 20,
     "metadata": {},
     "output_type": "execute_result"
    }
   ],
   "source": [
    "df_cleaning.head(3)"
   ]
  },
  {
   "cell_type": "markdown",
   "metadata": {},
   "source": [
    "### For the most part, most the groupby method, inspired from the following:\n",
    "https://realpython.com/pandas-groupby/"
   ]
  },
  {
   "cell_type": "code",
   "execution_count": 57,
   "metadata": {},
   "outputs": [
    {
     "data": {
      "text/plain": [
       "Category\n",
       "Furniture          2119\n",
       "Office Supplies    6020\n",
       "Technology         1844\n",
       "Name: SubCategory, dtype: int64"
      ]
     },
     "execution_count": 57,
     "metadata": {},
     "output_type": "execute_result"
    }
   ],
   "source": [
    "n_by_category = df_cleaning.groupby(\"Category\")[\"SubCategory\"].count()\n",
    "n_by_category.head(10)"
   ]
  },
  {
   "cell_type": "markdown",
   "metadata": {},
   "source": [
    "You call  `.groupby()`  and pass the name of the column you want to group on, which is  `\"Category\"`. Then, you use  `[\"SubCategory\"]`  to specify the columns on which you want to perform the actual aggregation.\n",
    "\n",
    "You can pass a lot more than just a single column name to  `.groupby()`  as the first argument. You can also specify any of the following:\n",
    "\n",
    "-   A  [`list`](https://realpython.com/python-lists-tuples/)  of multiple column names\n",
    "-   A  [`dict`](https://realpython.com/python-dicts/)  or Pandas  `Series`\n",
    "-   A  [NumPy array](https://realpython.com/numpy-array-programming/)  or Pandas  `Index`, or an array-like iterable of these\n",
    "\n",
    "Here’s an example of grouping jointly on two columns, which finds the count of Congressional members broken out by state and then by gender:"
   ]
  },
  {
   "cell_type": "code",
   "execution_count": 59,
   "metadata": {},
   "outputs": [],
   "source": [
    "n_by_category_subcategory = df_cleaning.groupby([\"Category\", \"SubCategory\"])[\"Region\"].count()"
   ]
  },
  {
   "cell_type": "code",
   "execution_count": 61,
   "metadata": {},
   "outputs": [
    {
     "data": {
      "text/plain": [
       "pandas.core.series.Series"
      ]
     },
     "execution_count": 61,
     "metadata": {},
     "output_type": "execute_result"
    }
   ],
   "source": [
    "type(n_by_category_subcategory)"
   ]
  },
  {
   "cell_type": "code",
   "execution_count": 63,
   "metadata": {},
   "outputs": [
    {
     "data": {
      "text/plain": [
       "MultiIndex([(      'Furniture',   'Bookcases'),\n",
       "            (      'Furniture',      'Chairs'),\n",
       "            (      'Furniture', 'Furnishings'),\n",
       "            (      'Furniture',      'Tables'),\n",
       "            ('Office Supplies',  'Appliances')],\n",
       "           names=['Category', 'SubCategory'])"
      ]
     },
     "execution_count": 63,
     "metadata": {},
     "output_type": "execute_result"
    }
   ],
   "source": [
    "n_by_category_subcategory.index[:5]"
   ]
  },
  {
   "cell_type": "code",
   "execution_count": 64,
   "metadata": {},
   "outputs": [
    {
     "data": {
      "text/plain": [
       "Category         SubCategory\n",
       "Furniture        Bookcases      227\n",
       "                 Chairs         616\n",
       "                               ... \n",
       "Office Supplies  Fasteners      217\n",
       "                 Labels         364\n",
       "Name: Region, Length: 10, dtype: int64"
      ]
     },
     "execution_count": 64,
     "metadata": {},
     "output_type": "execute_result"
    }
   ],
   "source": [
    "n_by_category_subcategory.head(10)"
   ]
  },
  {
   "cell_type": "code",
   "execution_count": 65,
   "metadata": {},
   "outputs": [
    {
     "data": {
      "text/html": [
       "<div>\n",
       "<style scoped>\n",
       "    .dataframe tbody tr th:only-of-type {\n",
       "        vertical-align: middle;\n",
       "    }\n",
       "\n",
       "    .dataframe tbody tr th {\n",
       "        vertical-align: top;\n",
       "    }\n",
       "\n",
       "    .dataframe thead th {\n",
       "        text-align: right;\n",
       "    }\n",
       "</style>\n",
       "<table border=\"1\" class=\"dataframe\">\n",
       "  <thead>\n",
       "    <tr style=\"text-align: right;\">\n",
       "      <th></th>\n",
       "      <th>Category</th>\n",
       "      <th>SubCategory</th>\n",
       "      <th>ProductName</th>\n",
       "    </tr>\n",
       "  </thead>\n",
       "  <tbody>\n",
       "    <tr>\n",
       "      <th>0</th>\n",
       "      <td>Furniture</td>\n",
       "      <td>Bookcases</td>\n",
       "      <td>227</td>\n",
       "    </tr>\n",
       "    <tr>\n",
       "      <th>1</th>\n",
       "      <td>Furniture</td>\n",
       "      <td>Chairs</td>\n",
       "      <td>616</td>\n",
       "    </tr>\n",
       "    <tr>\n",
       "      <th>...</th>\n",
       "      <td>...</td>\n",
       "      <td>...</td>\n",
       "      <td>...</td>\n",
       "    </tr>\n",
       "    <tr>\n",
       "      <th>15</th>\n",
       "      <td>Technology</td>\n",
       "      <td>Machines</td>\n",
       "      <td>115</td>\n",
       "    </tr>\n",
       "    <tr>\n",
       "      <th>16</th>\n",
       "      <td>Technology</td>\n",
       "      <td>Phones</td>\n",
       "      <td>888</td>\n",
       "    </tr>\n",
       "  </tbody>\n",
       "</table>\n",
       "<p>17 rows × 3 columns</p>\n",
       "</div>"
      ],
      "text/plain": [
       "      Category SubCategory  ProductName\n",
       "0    Furniture   Bookcases          227\n",
       "1    Furniture      Chairs          616\n",
       "..         ...         ...          ...\n",
       "15  Technology    Machines          115\n",
       "16  Technology      Phones          888\n",
       "\n",
       "[17 rows x 3 columns]"
      ]
     },
     "execution_count": 65,
     "metadata": {},
     "output_type": "execute_result"
    }
   ],
   "source": [
    "df_cleaning.groupby([\"Category\", \"SubCategory\"], as_index=False)[\"ProductName\"].count()"
   ]
  },
  {
   "cell_type": "code",
   "execution_count": 27,
   "metadata": {},
   "outputs": [
    {
     "data": {
      "text/html": [
       "<div>\n",
       "<style scoped>\n",
       "    .dataframe tbody tr th:only-of-type {\n",
       "        vertical-align: middle;\n",
       "    }\n",
       "\n",
       "    .dataframe tbody tr th {\n",
       "        vertical-align: top;\n",
       "    }\n",
       "\n",
       "    .dataframe thead th {\n",
       "        text-align: right;\n",
       "    }\n",
       "</style>\n",
       "<table border=\"1\" class=\"dataframe\">\n",
       "  <thead>\n",
       "    <tr style=\"text-align: right;\">\n",
       "      <th></th>\n",
       "      <th>Category</th>\n",
       "      <th>SubCategory</th>\n",
       "      <th>Quantity</th>\n",
       "    </tr>\n",
       "  </thead>\n",
       "  <tbody>\n",
       "    <tr>\n",
       "      <th>0</th>\n",
       "      <td>Furniture</td>\n",
       "      <td>Bookcases</td>\n",
       "      <td>227</td>\n",
       "    </tr>\n",
       "    <tr>\n",
       "      <th>1</th>\n",
       "      <td>Furniture</td>\n",
       "      <td>Chairs</td>\n",
       "      <td>616</td>\n",
       "    </tr>\n",
       "    <tr>\n",
       "      <th>...</th>\n",
       "      <td>...</td>\n",
       "      <td>...</td>\n",
       "      <td>...</td>\n",
       "    </tr>\n",
       "    <tr>\n",
       "      <th>15</th>\n",
       "      <td>Technology</td>\n",
       "      <td>Machines</td>\n",
       "      <td>115</td>\n",
       "    </tr>\n",
       "    <tr>\n",
       "      <th>16</th>\n",
       "      <td>Technology</td>\n",
       "      <td>Phones</td>\n",
       "      <td>888</td>\n",
       "    </tr>\n",
       "  </tbody>\n",
       "</table>\n",
       "<p>17 rows × 3 columns</p>\n",
       "</div>"
      ],
      "text/plain": [
       "      Category SubCategory  Quantity\n",
       "0    Furniture   Bookcases       227\n",
       "1    Furniture      Chairs       616\n",
       "..         ...         ...       ...\n",
       "15  Technology    Machines       115\n",
       "16  Technology      Phones       888\n",
       "\n",
       "[17 rows x 3 columns]"
      ]
     },
     "execution_count": 27,
     "metadata": {},
     "output_type": "execute_result"
    }
   ],
   "source": [
    "df_cleaning.groupby([\"Category\", \"SubCategory\"], as_index=False)[\"Quantity\"].count()"
   ]
  },
  {
   "cell_type": "code",
   "execution_count": 29,
   "metadata": {},
   "outputs": [
    {
     "data": {
      "text/html": [
       "<div>\n",
       "<style scoped>\n",
       "    .dataframe tbody tr th:only-of-type {\n",
       "        vertical-align: middle;\n",
       "    }\n",
       "\n",
       "    .dataframe tbody tr th {\n",
       "        vertical-align: top;\n",
       "    }\n",
       "\n",
       "    .dataframe thead th {\n",
       "        text-align: right;\n",
       "    }\n",
       "</style>\n",
       "<table border=\"1\" class=\"dataframe\">\n",
       "  <thead>\n",
       "    <tr style=\"text-align: right;\">\n",
       "      <th></th>\n",
       "      <th>Category</th>\n",
       "      <th>SubCategory</th>\n",
       "      <th>Quantity</th>\n",
       "    </tr>\n",
       "  </thead>\n",
       "  <tbody>\n",
       "    <tr>\n",
       "      <th>0</th>\n",
       "      <td>Furniture</td>\n",
       "      <td>Bookcases</td>\n",
       "      <td>227</td>\n",
       "    </tr>\n",
       "    <tr>\n",
       "      <th>1</th>\n",
       "      <td>Furniture</td>\n",
       "      <td>Chairs</td>\n",
       "      <td>616</td>\n",
       "    </tr>\n",
       "    <tr>\n",
       "      <th>...</th>\n",
       "      <td>...</td>\n",
       "      <td>...</td>\n",
       "      <td>...</td>\n",
       "    </tr>\n",
       "    <tr>\n",
       "      <th>15</th>\n",
       "      <td>Technology</td>\n",
       "      <td>Machines</td>\n",
       "      <td>115</td>\n",
       "    </tr>\n",
       "    <tr>\n",
       "      <th>16</th>\n",
       "      <td>Technology</td>\n",
       "      <td>Phones</td>\n",
       "      <td>888</td>\n",
       "    </tr>\n",
       "  </tbody>\n",
       "</table>\n",
       "<p>17 rows × 3 columns</p>\n",
       "</div>"
      ],
      "text/plain": [
       "      Category SubCategory  Quantity\n",
       "0    Furniture   Bookcases       227\n",
       "1    Furniture      Chairs       616\n",
       "..         ...         ...       ...\n",
       "15  Technology    Machines       115\n",
       "16  Technology      Phones       888\n",
       "\n",
       "[17 rows x 3 columns]"
      ]
     },
     "execution_count": 29,
     "metadata": {},
     "output_type": "execute_result"
    }
   ],
   "source": [
    "df_cleaning.groupby([\"Category\", \"SubCategory\"], as_index=False)[\"Quantity\"].count()"
   ]
  },
  {
   "cell_type": "code",
   "execution_count": 28,
   "metadata": {},
   "outputs": [
    {
     "data": {
      "text/plain": [
       "Category\n",
       "Furniture          2119\n",
       "Office Supplies    6020\n",
       "Technology         1844\n",
       "Name: SubCategory, dtype: int64"
      ]
     },
     "execution_count": 28,
     "metadata": {},
     "output_type": "execute_result"
    }
   ],
   "source": [
    "df_cleaning.groupby(\"Category\", sort=False)[\"SubCategory\"].count()"
   ]
  },
  {
   "cell_type": "code",
   "execution_count": 31,
   "metadata": {},
   "outputs": [
    {
     "name": "stdout",
     "output_type": "stream",
     "text": [
      "<pandas.core.groupby.generic.DataFrameGroupBy object at 0x11e72d3d0>\n"
     ]
    }
   ],
   "source": [
    "by_category = df_cleaning.groupby(\"Category\")\n",
    "print(by_category)"
   ]
  },
  {
   "cell_type": "code",
   "execution_count": 33,
   "metadata": {},
   "outputs": [
    {
     "name": "stdout",
     "output_type": "stream",
     "text": [
      "First 2 entries for 'Furniture'\n",
      "------------------------\n",
      "   RowID         OrderID   OrderDate    ShipDate      ShipMode CustomerID  \\\n",
      "0      1  CA-2017-152156  2017-11-08  2017-11-11  Second Class   CG-12520   \n",
      "1      2  CA-2017-152156  2017-11-08  2017-11-11  Second Class   CG-12520   \n",
      "\n",
      "  CustomerName   Segment        Country       City     State  PostalCode  \\\n",
      "0  Claire Gute  Consumer  United States  Henderson  Kentucky     42420.0   \n",
      "1  Claire Gute  Consumer  United States  Henderson  Kentucky     42420.0   \n",
      "\n",
      "  Region        ProductID   Category SubCategory  \\\n",
      "0  South  FUR-BO-10001798  Furniture   Bookcases   \n",
      "1  South  FUR-CH-10000454  Furniture      Chairs   \n",
      "\n",
      "                                         ProductName   Sales  Quantity  \\\n",
      "0                  Bush Somerset Collection Bookcase  261.96       2.0   \n",
      "1  Hon Deluxe Fabric Upholstered Stacking Chairs,...  731.94       3.0   \n",
      "\n",
      "   Discount    Profit   Revenue  NetPrice  \n",
      "0       0.0   41.9136  220.0464   89.0664  \n",
      "1       0.0  219.5820  512.3580   97.5920  \n",
      "\n",
      "First 2 entries for 'Office Supplies'\n",
      "------------------------\n",
      "   RowID         OrderID   OrderDate    ShipDate        ShipMode CustomerID  \\\n",
      "2      3  CA-2017-138688  2017-06-12  2017-06-16    Second Class   DV-13045   \n",
      "4      5  US-2016-108966  2016-10-11  2016-10-18  Standard Class   SO-20335   \n",
      "\n",
      "      CustomerName    Segment        Country             City       State  \\\n",
      "2  Darrin Van Huff  Corporate  United States      Los Angeles  California   \n",
      "4   Sean O'Donnell   Consumer  United States  Fort Lauderdale     Florida   \n",
      "\n",
      "   PostalCode Region        ProductID         Category SubCategory  \\\n",
      "2     90036.0   West  OFF-LA-10000240  Office Supplies      Labels   \n",
      "4     33311.0  South  OFF-ST-10000760  Office Supplies     Storage   \n",
      "\n",
      "                                         ProductName   Sales  Quantity  \\\n",
      "2  Self-Adhesive Address Labels for Typewriters b...  14.620       2.0   \n",
      "4                     Eldon Fold 'N Roll Cart System  22.368       2.0   \n",
      "\n",
      "   Discount  Profit  Revenue  NetPrice  \n",
      "2       0.0  6.8714   7.7486   0.43860  \n",
      "4       0.2  2.5164  19.8516   6.93408  \n",
      "\n",
      "First 2 entries for 'Technology'\n",
      "------------------------\n",
      "    RowID         OrderID   OrderDate    ShipDate        ShipMode CustomerID  \\\n",
      "7       8  CA-2015-115812  2015-06-09  2015-06-14  Standard Class   BH-11710   \n",
      "11     12  CA-2015-115812  2015-06-09  2015-06-14  Standard Class   BH-11710   \n",
      "\n",
      "       CustomerName   Segment        Country         City       State  \\\n",
      "7   Brosina Hoffman  Consumer  United States  Los Angeles  California   \n",
      "11  Brosina Hoffman  Consumer  United States  Los Angeles  California   \n",
      "\n",
      "    PostalCode Region        ProductID    Category SubCategory  \\\n",
      "7      90032.0   West  TEC-PH-10002275  Technology      Phones   \n",
      "11     90032.0   West  TEC-PH-10002033  Technology      Phones   \n",
      "\n",
      "                                      ProductName    Sales  Quantity  \\\n",
      "7                  Mitel 5320 IP Phone VoIP phone  907.152       6.0   \n",
      "11  Konftel 250 Conference phone - Charcoal black  911.424       4.0   \n",
      "\n",
      "    Discount   Profit   Revenue   NetPrice  \n",
      "7        0.2  90.7152  816.4368   96.76288  \n",
      "11       0.2  68.3568  843.0672  154.94208  \n",
      "\n"
     ]
    }
   ],
   "source": [
    "for Category, frame in by_category:\n",
    "    print(f\"First 2 entries for {Category!r}\")\n",
    "    print(\"------------------------\")\n",
    "    print(frame.head(2), end=\"\\n\\n\")"
   ]
  },
  {
   "cell_type": "markdown",
   "metadata": {},
   "source": [
    "If you’re working on a challenging aggregation problem, then iterating over the Pandas GroupBy object can be a great way to visualize the  **split**  part of split-apply-combine.\n",
    "\n",
    "There are a few other methods and properties that let you look into the individual groups and their splits. The  `.groups`  attribute will give you a dictionary of  `{group name: group label}`  pairs. For example,  `by_state`  is a  `dict`  with states as keys. Here’s the value for the  `\"PA\"`  key:"
   ]
  },
  {
   "cell_type": "code",
   "execution_count": 40,
   "metadata": {},
   "outputs": [
    {
     "data": {
      "text/plain": [
       "Int64Index([   7,   11,   19,   26,   35,   40,   41,   44,   47,   48,\n",
       "            ...\n",
       "            9938, 9939, 9949, 9962, 9965, 9972, 9975, 9976, 9977, 9980],\n",
       "           dtype='int64', length=1844)"
      ]
     },
     "execution_count": 40,
     "metadata": {},
     "output_type": "execute_result"
    }
   ],
   "source": [
    "by_category.groups[\"Technology\"]"
   ]
  },
  {
   "cell_type": "code",
   "execution_count": 49,
   "metadata": {},
   "outputs": [],
   "source": [
    "# by_category.get_group([\"Phones\"])\n",
    "# .get_group method is not working? don't know why?"
   ]
  },
  {
   "cell_type": "code",
   "execution_count": 51,
   "metadata": {},
   "outputs": [
    {
     "data": {
      "text/html": [
       "<div>\n",
       "<style scoped>\n",
       "    .dataframe tbody tr th:only-of-type {\n",
       "        vertical-align: middle;\n",
       "    }\n",
       "\n",
       "    .dataframe tbody tr th {\n",
       "        vertical-align: top;\n",
       "    }\n",
       "\n",
       "    .dataframe thead th {\n",
       "        text-align: right;\n",
       "    }\n",
       "</style>\n",
       "<table border=\"1\" class=\"dataframe\">\n",
       "  <thead>\n",
       "    <tr style=\"text-align: right;\">\n",
       "      <th></th>\n",
       "      <th>RowID</th>\n",
       "      <th>OrderID</th>\n",
       "      <th>OrderDate</th>\n",
       "      <th>ShipDate</th>\n",
       "      <th>ShipMode</th>\n",
       "      <th>CustomerID</th>\n",
       "      <th>CustomerName</th>\n",
       "      <th>Segment</th>\n",
       "      <th>Country</th>\n",
       "      <th>City</th>\n",
       "      <th>State</th>\n",
       "      <th>PostalCode</th>\n",
       "      <th>Region</th>\n",
       "      <th>ProductID</th>\n",
       "      <th>Category</th>\n",
       "      <th>SubCategory</th>\n",
       "      <th>ProductName</th>\n",
       "      <th>Sales</th>\n",
       "      <th>Quantity</th>\n",
       "      <th>Discount</th>\n",
       "      <th>Profit</th>\n",
       "      <th>Revenue</th>\n",
       "      <th>NetPrice</th>\n",
       "    </tr>\n",
       "  </thead>\n",
       "  <tbody>\n",
       "    <tr>\n",
       "      <th>0</th>\n",
       "      <td>1</td>\n",
       "      <td>CA-2017-152156</td>\n",
       "      <td>2017-11-08</td>\n",
       "      <td>2017-11-11</td>\n",
       "      <td>Second Class</td>\n",
       "      <td>CG-12520</td>\n",
       "      <td>Claire Gute</td>\n",
       "      <td>Consumer</td>\n",
       "      <td>United States</td>\n",
       "      <td>Henderson</td>\n",
       "      <td>Kentucky</td>\n",
       "      <td>42420.0</td>\n",
       "      <td>South</td>\n",
       "      <td>FUR-BO-10001798</td>\n",
       "      <td>Furniture</td>\n",
       "      <td>Bookcases</td>\n",
       "      <td>Bush Somerset Collection Bookcase</td>\n",
       "      <td>261.960</td>\n",
       "      <td>2.0</td>\n",
       "      <td>0.0</td>\n",
       "      <td>41.9136</td>\n",
       "      <td>220.0464</td>\n",
       "      <td>89.06640</td>\n",
       "    </tr>\n",
       "    <tr>\n",
       "      <th>1</th>\n",
       "      <td>2</td>\n",
       "      <td>CA-2017-152156</td>\n",
       "      <td>2017-11-08</td>\n",
       "      <td>2017-11-11</td>\n",
       "      <td>Second Class</td>\n",
       "      <td>CG-12520</td>\n",
       "      <td>Claire Gute</td>\n",
       "      <td>Consumer</td>\n",
       "      <td>United States</td>\n",
       "      <td>Henderson</td>\n",
       "      <td>Kentucky</td>\n",
       "      <td>42420.0</td>\n",
       "      <td>South</td>\n",
       "      <td>FUR-CH-10000454</td>\n",
       "      <td>Furniture</td>\n",
       "      <td>Chairs</td>\n",
       "      <td>Hon Deluxe Fabric Upholstered Stacking Chairs,...</td>\n",
       "      <td>731.940</td>\n",
       "      <td>3.0</td>\n",
       "      <td>0.0</td>\n",
       "      <td>219.5820</td>\n",
       "      <td>512.3580</td>\n",
       "      <td>97.59200</td>\n",
       "    </tr>\n",
       "    <tr>\n",
       "      <th>...</th>\n",
       "      <td>...</td>\n",
       "      <td>...</td>\n",
       "      <td>...</td>\n",
       "      <td>...</td>\n",
       "      <td>...</td>\n",
       "      <td>...</td>\n",
       "      <td>...</td>\n",
       "      <td>...</td>\n",
       "      <td>...</td>\n",
       "      <td>...</td>\n",
       "      <td>...</td>\n",
       "      <td>...</td>\n",
       "      <td>...</td>\n",
       "      <td>...</td>\n",
       "      <td>...</td>\n",
       "      <td>...</td>\n",
       "      <td>...</td>\n",
       "      <td>...</td>\n",
       "      <td>...</td>\n",
       "      <td>...</td>\n",
       "      <td>...</td>\n",
       "      <td>...</td>\n",
       "      <td>...</td>\n",
       "    </tr>\n",
       "    <tr>\n",
       "      <th>124</th>\n",
       "      <td>125</td>\n",
       "      <td>US-2015-152030</td>\n",
       "      <td>2015-12-26</td>\n",
       "      <td>2015-12-28</td>\n",
       "      <td>Second Class</td>\n",
       "      <td>AD-10180</td>\n",
       "      <td>Alan Dominguez</td>\n",
       "      <td>Home Office</td>\n",
       "      <td>United States</td>\n",
       "      <td>Houston</td>\n",
       "      <td>Texas</td>\n",
       "      <td>77041.0</td>\n",
       "      <td>Central</td>\n",
       "      <td>FUR-CH-10004063</td>\n",
       "      <td>Furniture</td>\n",
       "      <td>Chairs</td>\n",
       "      <td>Global Deluxe High-Back Manager's Chair</td>\n",
       "      <td>600.558</td>\n",
       "      <td>3.0</td>\n",
       "      <td>0.3</td>\n",
       "      <td>-8.5794</td>\n",
       "      <td>609.1374</td>\n",
       "      <td>144.13392</td>\n",
       "    </tr>\n",
       "    <tr>\n",
       "      <th>125</th>\n",
       "      <td>126</td>\n",
       "      <td>US-2015-134614</td>\n",
       "      <td>2015-09-20</td>\n",
       "      <td>2015-09-25</td>\n",
       "      <td>Standard Class</td>\n",
       "      <td>PF-19165</td>\n",
       "      <td>Philip Fox</td>\n",
       "      <td>Consumer</td>\n",
       "      <td>United States</td>\n",
       "      <td>Bloomington</td>\n",
       "      <td>Illinois</td>\n",
       "      <td>61701.0</td>\n",
       "      <td>Central</td>\n",
       "      <td>FUR-TA-10004534</td>\n",
       "      <td>Furniture</td>\n",
       "      <td>Tables</td>\n",
       "      <td>Bevis 44 x 96 Conference Tables</td>\n",
       "      <td>617.700</td>\n",
       "      <td>6.0</td>\n",
       "      <td>0.5</td>\n",
       "      <td>-407.6820</td>\n",
       "      <td>1025.3820</td>\n",
       "      <td>119.42200</td>\n",
       "    </tr>\n",
       "  </tbody>\n",
       "</table>\n",
       "<p>30 rows × 23 columns</p>\n",
       "</div>"
      ],
      "text/plain": [
       "     RowID         OrderID   OrderDate    ShipDate        ShipMode CustomerID  \\\n",
       "0        1  CA-2017-152156  2017-11-08  2017-11-11    Second Class   CG-12520   \n",
       "1        2  CA-2017-152156  2017-11-08  2017-11-11    Second Class   CG-12520   \n",
       "..     ...             ...         ...         ...             ...        ...   \n",
       "124    125  US-2015-152030  2015-12-26  2015-12-28    Second Class   AD-10180   \n",
       "125    126  US-2015-134614  2015-09-20  2015-09-25  Standard Class   PF-19165   \n",
       "\n",
       "       CustomerName      Segment        Country         City     State  \\\n",
       "0       Claire Gute     Consumer  United States    Henderson  Kentucky   \n",
       "1       Claire Gute     Consumer  United States    Henderson  Kentucky   \n",
       "..              ...          ...            ...          ...       ...   \n",
       "124  Alan Dominguez  Home Office  United States      Houston     Texas   \n",
       "125      Philip Fox     Consumer  United States  Bloomington  Illinois   \n",
       "\n",
       "     PostalCode   Region        ProductID   Category SubCategory  \\\n",
       "0       42420.0    South  FUR-BO-10001798  Furniture   Bookcases   \n",
       "1       42420.0    South  FUR-CH-10000454  Furniture      Chairs   \n",
       "..          ...      ...              ...        ...         ...   \n",
       "124     77041.0  Central  FUR-CH-10004063  Furniture      Chairs   \n",
       "125     61701.0  Central  FUR-TA-10004534  Furniture      Tables   \n",
       "\n",
       "                                           ProductName    Sales  Quantity  \\\n",
       "0                    Bush Somerset Collection Bookcase  261.960       2.0   \n",
       "1    Hon Deluxe Fabric Upholstered Stacking Chairs,...  731.940       3.0   \n",
       "..                                                 ...      ...       ...   \n",
       "124            Global Deluxe High-Back Manager's Chair  600.558       3.0   \n",
       "125                    Bevis 44 x 96 Conference Tables  617.700       6.0   \n",
       "\n",
       "     Discount    Profit    Revenue   NetPrice  \n",
       "0         0.0   41.9136   220.0464   89.06640  \n",
       "1         0.0  219.5820   512.3580   97.59200  \n",
       "..        ...       ...        ...        ...  \n",
       "124       0.3   -8.5794   609.1374  144.13392  \n",
       "125       0.5 -407.6820  1025.3820  119.42200  \n",
       "\n",
       "[30 rows x 23 columns]"
      ]
     },
     "execution_count": 51,
     "metadata": {},
     "output_type": "execute_result"
    }
   ],
   "source": [
    "Category, frame = next(iter(by_category))  # First tuple from iterator\n",
    "Category\n",
    "\n",
    "frame.head(30)"
   ]
  },
  {
   "cell_type": "code",
   "execution_count": 55,
   "metadata": {},
   "outputs": [],
   "source": [
    "# by_category(\"Category\")[\"SubCategory\"].count()"
   ]
  },
  {
   "cell_type": "code",
   "execution_count": 54,
   "metadata": {},
   "outputs": [
    {
     "data": {
      "text/plain": [
       "2119"
      ]
     },
     "execution_count": 54,
     "metadata": {},
     "output_type": "execute_result"
    }
   ],
   "source": [
    "frame[\"SubCategory\"].count()  # Count for state == 'AK'"
   ]
  },
  {
   "cell_type": "code",
   "execution_count": null,
   "metadata": {},
   "outputs": [],
   "source": []
  },
  {
   "cell_type": "code",
   "execution_count": null,
   "metadata": {},
   "outputs": [],
   "source": []
  }
 ],
 "metadata": {
  "kernelspec": {
   "display_name": "Python 3",
   "language": "python",
   "name": "python3"
  },
  "language_info": {
   "codemirror_mode": {
    "name": "ipython",
    "version": 3
   },
   "file_extension": ".py",
   "mimetype": "text/x-python",
   "name": "python",
   "nbconvert_exporter": "python",
   "pygments_lexer": "ipython3",
   "version": "3.7.6"
  }
 },
 "nbformat": 4,
 "nbformat_minor": 4
}
